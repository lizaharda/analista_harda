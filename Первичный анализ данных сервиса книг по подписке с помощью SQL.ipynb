{
 "cells": [
  {
   "cell_type": "markdown",
   "metadata": {},
   "source": [
    "# SQL"
   ]
  },
  {
   "cell_type": "markdown",
   "metadata": {},
   "source": [
    "Цель - проанализировать базу данных.\n",
    "В ней — информация о книгах, издательствах, авторах, а также пользовательские обзоры книг. Эти данные помогут сформулировать ценностное предложение для нового продукта."
   ]
  },
  {
   "cell_type": "markdown",
   "metadata": {},
   "source": [
    "## Подключение к базе данных"
   ]
  },
  {
   "cell_type": "code",
   "execution_count": 1,
   "metadata": {
    "scrolled": false
   },
   "outputs": [
    {
     "name": "stdout",
     "output_type": "stream",
     "text": [
      "Defaulting to user installation because normal site-packages is not writeable\n",
      "Requirement already satisfied: SQLAlchemy in /opt/conda/lib/python3.7/site-packages (1.3.11)\n"
     ]
    }
   ],
   "source": [
    "# импортируем библиотеки\n",
    "!pip install SQLAlchemy"
   ]
  },
  {
   "cell_type": "code",
   "execution_count": 2,
   "metadata": {},
   "outputs": [],
   "source": [
    "import pandas as pd\n",
    "from sqlalchemy import create_engine\n",
    "# устанавливаем параметры\n",
    "db_config = {'user': 'praktikum_student', # имя пользователя\n",
    "            'pwd': 'Sdf4$2;d-d30pp', # пароль\n",
    "            'host': 'rc1b-wcoijxj3yxfsf3fs.mdb.yandexcloud.net',\n",
    "            'port': 6432, # порт подключения\n",
    "            'db': 'data-analyst-final-project-db'} # название базы данных\n",
    "connection_string = 'postgresql://{}:{}@{}:{}/{}'.format(db_config['user'],\n",
    "                                                         db_config['pwd'],\n",
    "                                                         db_config['host'],\n",
    "                                                         db_config['port'],\n",
    "                                                         db_config['db'])\n",
    "# сохраняем коннектор\n",
    "engine = create_engine(connection_string, connect_args={'sslmode':'require'}) "
   ]
  },
  {
   "cell_type": "code",
   "execution_count": 3,
   "metadata": {},
   "outputs": [
    {
     "data": {
      "text/html": [
       "<div>\n",
       "<style scoped>\n",
       "    .dataframe tbody tr th:only-of-type {\n",
       "        vertical-align: middle;\n",
       "    }\n",
       "\n",
       "    .dataframe tbody tr th {\n",
       "        vertical-align: top;\n",
       "    }\n",
       "\n",
       "    .dataframe thead th {\n",
       "        text-align: right;\n",
       "    }\n",
       "</style>\n",
       "<table border=\"1\" class=\"dataframe\">\n",
       "  <thead>\n",
       "    <tr style=\"text-align: right;\">\n",
       "      <th></th>\n",
       "      <th>book_id</th>\n",
       "      <th>author_id</th>\n",
       "      <th>title</th>\n",
       "      <th>num_pages</th>\n",
       "      <th>publication_date</th>\n",
       "      <th>publisher_id</th>\n",
       "    </tr>\n",
       "  </thead>\n",
       "  <tbody>\n",
       "    <tr>\n",
       "      <td>0</td>\n",
       "      <td>1</td>\n",
       "      <td>546</td>\n",
       "      <td>'Salem's Lot</td>\n",
       "      <td>594</td>\n",
       "      <td>2005-11-01</td>\n",
       "      <td>93</td>\n",
       "    </tr>\n",
       "    <tr>\n",
       "      <td>1</td>\n",
       "      <td>2</td>\n",
       "      <td>465</td>\n",
       "      <td>1 000 Places to See Before You Die</td>\n",
       "      <td>992</td>\n",
       "      <td>2003-05-22</td>\n",
       "      <td>336</td>\n",
       "    </tr>\n",
       "    <tr>\n",
       "      <td>2</td>\n",
       "      <td>3</td>\n",
       "      <td>407</td>\n",
       "      <td>13 Little Blue Envelopes (Little Blue Envelope...</td>\n",
       "      <td>322</td>\n",
       "      <td>2010-12-21</td>\n",
       "      <td>135</td>\n",
       "    </tr>\n",
       "    <tr>\n",
       "      <td>3</td>\n",
       "      <td>4</td>\n",
       "      <td>82</td>\n",
       "      <td>1491: New Revelations of the Americas Before C...</td>\n",
       "      <td>541</td>\n",
       "      <td>2006-10-10</td>\n",
       "      <td>309</td>\n",
       "    </tr>\n",
       "    <tr>\n",
       "      <td>4</td>\n",
       "      <td>5</td>\n",
       "      <td>125</td>\n",
       "      <td>1776</td>\n",
       "      <td>386</td>\n",
       "      <td>2006-07-04</td>\n",
       "      <td>268</td>\n",
       "    </tr>\n",
       "  </tbody>\n",
       "</table>\n",
       "</div>"
      ],
      "text/plain": [
       "   book_id  author_id                                              title  \\\n",
       "0        1        546                                       'Salem's Lot   \n",
       "1        2        465                 1 000 Places to See Before You Die   \n",
       "2        3        407  13 Little Blue Envelopes (Little Blue Envelope...   \n",
       "3        4         82  1491: New Revelations of the Americas Before C...   \n",
       "4        5        125                                               1776   \n",
       "\n",
       "   num_pages publication_date  publisher_id  \n",
       "0        594       2005-11-01            93  \n",
       "1        992       2003-05-22           336  \n",
       "2        322       2010-12-21           135  \n",
       "3        541       2006-10-10           309  \n",
       "4        386       2006-07-04           268  "
      ]
     },
     "execution_count": 3,
     "metadata": {},
     "output_type": "execute_result"
    }
   ],
   "source": [
    "query = ''' SELECT *\n",
    "            FROM books\n",
    "        '''\n",
    "books=pd.io.sql.read_sql(query, con=engine)\n",
    "books.head()"
   ]
  },
  {
   "cell_type": "code",
   "execution_count": 4,
   "metadata": {},
   "outputs": [
    {
     "data": {
      "text/html": [
       "<div>\n",
       "<style scoped>\n",
       "    .dataframe tbody tr th:only-of-type {\n",
       "        vertical-align: middle;\n",
       "    }\n",
       "\n",
       "    .dataframe tbody tr th {\n",
       "        vertical-align: top;\n",
       "    }\n",
       "\n",
       "    .dataframe thead th {\n",
       "        text-align: right;\n",
       "    }\n",
       "</style>\n",
       "<table border=\"1\" class=\"dataframe\">\n",
       "  <thead>\n",
       "    <tr style=\"text-align: right;\">\n",
       "      <th></th>\n",
       "      <th>author_id</th>\n",
       "      <th>author</th>\n",
       "    </tr>\n",
       "  </thead>\n",
       "  <tbody>\n",
       "    <tr>\n",
       "      <td>0</td>\n",
       "      <td>1</td>\n",
       "      <td>A.S. Byatt</td>\n",
       "    </tr>\n",
       "    <tr>\n",
       "      <td>1</td>\n",
       "      <td>2</td>\n",
       "      <td>Aesop/Laura Harris/Laura Gibbs</td>\n",
       "    </tr>\n",
       "    <tr>\n",
       "      <td>2</td>\n",
       "      <td>3</td>\n",
       "      <td>Agatha Christie</td>\n",
       "    </tr>\n",
       "    <tr>\n",
       "      <td>3</td>\n",
       "      <td>4</td>\n",
       "      <td>Alan Brennert</td>\n",
       "    </tr>\n",
       "    <tr>\n",
       "      <td>4</td>\n",
       "      <td>5</td>\n",
       "      <td>Alan Moore/David   Lloyd</td>\n",
       "    </tr>\n",
       "  </tbody>\n",
       "</table>\n",
       "</div>"
      ],
      "text/plain": [
       "   author_id                          author\n",
       "0          1                      A.S. Byatt\n",
       "1          2  Aesop/Laura Harris/Laura Gibbs\n",
       "2          3                 Agatha Christie\n",
       "3          4                   Alan Brennert\n",
       "4          5        Alan Moore/David   Lloyd"
      ]
     },
     "execution_count": 4,
     "metadata": {},
     "output_type": "execute_result"
    }
   ],
   "source": [
    "query = ''' SELECT *\n",
    "            FROM authors\n",
    "        '''\n",
    "authors=pd.io.sql.read_sql(query, con=engine)\n",
    "authors.head()"
   ]
  },
  {
   "cell_type": "code",
   "execution_count": 5,
   "metadata": {},
   "outputs": [
    {
     "data": {
      "text/html": [
       "<div>\n",
       "<style scoped>\n",
       "    .dataframe tbody tr th:only-of-type {\n",
       "        vertical-align: middle;\n",
       "    }\n",
       "\n",
       "    .dataframe tbody tr th {\n",
       "        vertical-align: top;\n",
       "    }\n",
       "\n",
       "    .dataframe thead th {\n",
       "        text-align: right;\n",
       "    }\n",
       "</style>\n",
       "<table border=\"1\" class=\"dataframe\">\n",
       "  <thead>\n",
       "    <tr style=\"text-align: right;\">\n",
       "      <th></th>\n",
       "      <th>publisher_id</th>\n",
       "      <th>publisher</th>\n",
       "    </tr>\n",
       "  </thead>\n",
       "  <tbody>\n",
       "    <tr>\n",
       "      <td>0</td>\n",
       "      <td>1</td>\n",
       "      <td>Ace</td>\n",
       "    </tr>\n",
       "    <tr>\n",
       "      <td>1</td>\n",
       "      <td>2</td>\n",
       "      <td>Ace Book</td>\n",
       "    </tr>\n",
       "    <tr>\n",
       "      <td>2</td>\n",
       "      <td>3</td>\n",
       "      <td>Ace Books</td>\n",
       "    </tr>\n",
       "    <tr>\n",
       "      <td>3</td>\n",
       "      <td>4</td>\n",
       "      <td>Ace Hardcover</td>\n",
       "    </tr>\n",
       "    <tr>\n",
       "      <td>4</td>\n",
       "      <td>5</td>\n",
       "      <td>Addison Wesley Publishing Company</td>\n",
       "    </tr>\n",
       "  </tbody>\n",
       "</table>\n",
       "</div>"
      ],
      "text/plain": [
       "   publisher_id                          publisher\n",
       "0             1                                Ace\n",
       "1             2                           Ace Book\n",
       "2             3                          Ace Books\n",
       "3             4                      Ace Hardcover\n",
       "4             5  Addison Wesley Publishing Company"
      ]
     },
     "execution_count": 5,
     "metadata": {},
     "output_type": "execute_result"
    }
   ],
   "source": [
    "\n",
    "query = ''' SELECT *\n",
    "            FROM publishers\n",
    "        '''\n",
    "publishers=pd.io.sql.read_sql(query, con=engine)\n",
    "publishers.head()"
   ]
  },
  {
   "cell_type": "code",
   "execution_count": 6,
   "metadata": {},
   "outputs": [
    {
     "data": {
      "text/html": [
       "<div>\n",
       "<style scoped>\n",
       "    .dataframe tbody tr th:only-of-type {\n",
       "        vertical-align: middle;\n",
       "    }\n",
       "\n",
       "    .dataframe tbody tr th {\n",
       "        vertical-align: top;\n",
       "    }\n",
       "\n",
       "    .dataframe thead th {\n",
       "        text-align: right;\n",
       "    }\n",
       "</style>\n",
       "<table border=\"1\" class=\"dataframe\">\n",
       "  <thead>\n",
       "    <tr style=\"text-align: right;\">\n",
       "      <th></th>\n",
       "      <th>rating_id</th>\n",
       "      <th>book_id</th>\n",
       "      <th>username</th>\n",
       "      <th>rating</th>\n",
       "    </tr>\n",
       "  </thead>\n",
       "  <tbody>\n",
       "    <tr>\n",
       "      <td>0</td>\n",
       "      <td>1</td>\n",
       "      <td>1</td>\n",
       "      <td>ryanfranco</td>\n",
       "      <td>4</td>\n",
       "    </tr>\n",
       "    <tr>\n",
       "      <td>1</td>\n",
       "      <td>2</td>\n",
       "      <td>1</td>\n",
       "      <td>grantpatricia</td>\n",
       "      <td>2</td>\n",
       "    </tr>\n",
       "    <tr>\n",
       "      <td>2</td>\n",
       "      <td>3</td>\n",
       "      <td>1</td>\n",
       "      <td>brandtandrea</td>\n",
       "      <td>5</td>\n",
       "    </tr>\n",
       "    <tr>\n",
       "      <td>3</td>\n",
       "      <td>4</td>\n",
       "      <td>2</td>\n",
       "      <td>lorichen</td>\n",
       "      <td>3</td>\n",
       "    </tr>\n",
       "    <tr>\n",
       "      <td>4</td>\n",
       "      <td>5</td>\n",
       "      <td>2</td>\n",
       "      <td>mariokeller</td>\n",
       "      <td>2</td>\n",
       "    </tr>\n",
       "  </tbody>\n",
       "</table>\n",
       "</div>"
      ],
      "text/plain": [
       "   rating_id  book_id       username  rating\n",
       "0          1        1     ryanfranco       4\n",
       "1          2        1  grantpatricia       2\n",
       "2          3        1   brandtandrea       5\n",
       "3          4        2       lorichen       3\n",
       "4          5        2    mariokeller       2"
      ]
     },
     "execution_count": 6,
     "metadata": {},
     "output_type": "execute_result"
    }
   ],
   "source": [
    "query = ''' SELECT *\n",
    "            FROM ratings\n",
    "        '''\n",
    "ratings=pd.io.sql.read_sql(query, con=engine)\n",
    "ratings.head()"
   ]
  },
  {
   "cell_type": "code",
   "execution_count": 7,
   "metadata": {},
   "outputs": [
    {
     "data": {
      "text/html": [
       "<div>\n",
       "<style scoped>\n",
       "    .dataframe tbody tr th:only-of-type {\n",
       "        vertical-align: middle;\n",
       "    }\n",
       "\n",
       "    .dataframe tbody tr th {\n",
       "        vertical-align: top;\n",
       "    }\n",
       "\n",
       "    .dataframe thead th {\n",
       "        text-align: right;\n",
       "    }\n",
       "</style>\n",
       "<table border=\"1\" class=\"dataframe\">\n",
       "  <thead>\n",
       "    <tr style=\"text-align: right;\">\n",
       "      <th></th>\n",
       "      <th>review_id</th>\n",
       "      <th>book_id</th>\n",
       "      <th>username</th>\n",
       "      <th>text</th>\n",
       "    </tr>\n",
       "  </thead>\n",
       "  <tbody>\n",
       "    <tr>\n",
       "      <td>0</td>\n",
       "      <td>1</td>\n",
       "      <td>1</td>\n",
       "      <td>brandtandrea</td>\n",
       "      <td>Mention society tell send professor analysis. ...</td>\n",
       "    </tr>\n",
       "    <tr>\n",
       "      <td>1</td>\n",
       "      <td>2</td>\n",
       "      <td>1</td>\n",
       "      <td>ryanfranco</td>\n",
       "      <td>Foot glass pretty audience hit themselves. Amo...</td>\n",
       "    </tr>\n",
       "    <tr>\n",
       "      <td>2</td>\n",
       "      <td>3</td>\n",
       "      <td>2</td>\n",
       "      <td>lorichen</td>\n",
       "      <td>Listen treat keep worry. Miss husband tax but ...</td>\n",
       "    </tr>\n",
       "    <tr>\n",
       "      <td>3</td>\n",
       "      <td>4</td>\n",
       "      <td>3</td>\n",
       "      <td>johnsonamanda</td>\n",
       "      <td>Finally month interesting blue could nature cu...</td>\n",
       "    </tr>\n",
       "    <tr>\n",
       "      <td>4</td>\n",
       "      <td>5</td>\n",
       "      <td>3</td>\n",
       "      <td>scotttamara</td>\n",
       "      <td>Nation purpose heavy give wait song will. List...</td>\n",
       "    </tr>\n",
       "  </tbody>\n",
       "</table>\n",
       "</div>"
      ],
      "text/plain": [
       "   review_id  book_id       username  \\\n",
       "0          1        1   brandtandrea   \n",
       "1          2        1     ryanfranco   \n",
       "2          3        2       lorichen   \n",
       "3          4        3  johnsonamanda   \n",
       "4          5        3    scotttamara   \n",
       "\n",
       "                                                text  \n",
       "0  Mention society tell send professor analysis. ...  \n",
       "1  Foot glass pretty audience hit themselves. Amo...  \n",
       "2  Listen treat keep worry. Miss husband tax but ...  \n",
       "3  Finally month interesting blue could nature cu...  \n",
       "4  Nation purpose heavy give wait song will. List...  "
      ]
     },
     "execution_count": 7,
     "metadata": {},
     "output_type": "execute_result"
    }
   ],
   "source": [
    "query = ''' SELECT *\n",
    "            FROM reviews\n",
    "        '''\n",
    "reviews=pd.io.sql.read_sql(query, con=engine)\n",
    "reviews.head()"
   ]
  },
  {
   "cell_type": "markdown",
   "metadata": {},
   "source": [
    "## Запросы"
   ]
  },
  {
   "cell_type": "markdown",
   "metadata": {},
   "source": [
    "### Посчитайте, сколько книг вышло после 1 января 2000 года;"
   ]
  },
  {
   "cell_type": "code",
   "execution_count": 8,
   "metadata": {},
   "outputs": [
    {
     "data": {
      "text/html": [
       "<div>\n",
       "<style scoped>\n",
       "    .dataframe tbody tr th:only-of-type {\n",
       "        vertical-align: middle;\n",
       "    }\n",
       "\n",
       "    .dataframe tbody tr th {\n",
       "        vertical-align: top;\n",
       "    }\n",
       "\n",
       "    .dataframe thead th {\n",
       "        text-align: right;\n",
       "    }\n",
       "</style>\n",
       "<table border=\"1\" class=\"dataframe\">\n",
       "  <thead>\n",
       "    <tr style=\"text-align: right;\">\n",
       "      <th></th>\n",
       "      <th>cnt</th>\n",
       "    </tr>\n",
       "  </thead>\n",
       "  <tbody>\n",
       "    <tr>\n",
       "      <td>0</td>\n",
       "      <td>821</td>\n",
       "    </tr>\n",
       "  </tbody>\n",
       "</table>\n",
       "</div>"
      ],
      "text/plain": [
       "   cnt\n",
       "0  821"
      ]
     },
     "execution_count": 8,
     "metadata": {},
     "output_type": "execute_result"
    }
   ],
   "source": [
    "query = ''' SELECT COUNT(book_id) as cnt\n",
    "            FROM books\n",
    "            where publication_date >= '2000-01-01';\n",
    "        '''\n",
    "count_book=pd.io.sql.read_sql(query, con=engine, parse_dates=['publication_date'])\n",
    "count_book"
   ]
  },
  {
   "cell_type": "markdown",
   "metadata": {},
   "source": [
    "### Для каждой книги посчитайте количество обзоров и среднюю оценку"
   ]
  },
  {
   "cell_type": "code",
   "execution_count": 9,
   "metadata": {},
   "outputs": [
    {
     "data": {
      "text/html": [
       "<div>\n",
       "<style scoped>\n",
       "    .dataframe tbody tr th:only-of-type {\n",
       "        vertical-align: middle;\n",
       "    }\n",
       "\n",
       "    .dataframe tbody tr th {\n",
       "        vertical-align: top;\n",
       "    }\n",
       "\n",
       "    .dataframe thead th {\n",
       "        text-align: right;\n",
       "    }\n",
       "</style>\n",
       "<table border=\"1\" class=\"dataframe\">\n",
       "  <thead>\n",
       "    <tr style=\"text-align: right;\">\n",
       "      <th></th>\n",
       "      <th>id_book</th>\n",
       "      <th>cnt_revievs</th>\n",
       "      <th>avg_rating</th>\n",
       "    </tr>\n",
       "  </thead>\n",
       "  <tbody>\n",
       "    <tr>\n",
       "      <td>0</td>\n",
       "      <td>55</td>\n",
       "      <td>4</td>\n",
       "      <td>5.0</td>\n",
       "    </tr>\n",
       "    <tr>\n",
       "      <td>1</td>\n",
       "      <td>518</td>\n",
       "      <td>4</td>\n",
       "      <td>5.0</td>\n",
       "    </tr>\n",
       "    <tr>\n",
       "      <td>2</td>\n",
       "      <td>347</td>\n",
       "      <td>6</td>\n",
       "      <td>5.0</td>\n",
       "    </tr>\n",
       "    <tr>\n",
       "      <td>3</td>\n",
       "      <td>513</td>\n",
       "      <td>4</td>\n",
       "      <td>5.0</td>\n",
       "    </tr>\n",
       "    <tr>\n",
       "      <td>4</td>\n",
       "      <td>57</td>\n",
       "      <td>4</td>\n",
       "      <td>5.0</td>\n",
       "    </tr>\n",
       "    <tr>\n",
       "      <td>5</td>\n",
       "      <td>642</td>\n",
       "      <td>4</td>\n",
       "      <td>5.0</td>\n",
       "    </tr>\n",
       "    <tr>\n",
       "      <td>6</td>\n",
       "      <td>459</td>\n",
       "      <td>4</td>\n",
       "      <td>5.0</td>\n",
       "    </tr>\n",
       "    <tr>\n",
       "      <td>7</td>\n",
       "      <td>972</td>\n",
       "      <td>4</td>\n",
       "      <td>5.0</td>\n",
       "    </tr>\n",
       "    <tr>\n",
       "      <td>8</td>\n",
       "      <td>182</td>\n",
       "      <td>4</td>\n",
       "      <td>5.0</td>\n",
       "    </tr>\n",
       "    <tr>\n",
       "      <td>9</td>\n",
       "      <td>418</td>\n",
       "      <td>4</td>\n",
       "      <td>5.0</td>\n",
       "    </tr>\n",
       "    <tr>\n",
       "      <td>10</td>\n",
       "      <td>967</td>\n",
       "      <td>4</td>\n",
       "      <td>5.0</td>\n",
       "    </tr>\n",
       "    <tr>\n",
       "      <td>11</td>\n",
       "      <td>993</td>\n",
       "      <td>4</td>\n",
       "      <td>5.0</td>\n",
       "    </tr>\n",
       "    <tr>\n",
       "      <td>12</td>\n",
       "      <td>553</td>\n",
       "      <td>12</td>\n",
       "      <td>5.0</td>\n",
       "    </tr>\n",
       "    <tr>\n",
       "      <td>13</td>\n",
       "      <td>62</td>\n",
       "      <td>4</td>\n",
       "      <td>5.0</td>\n",
       "    </tr>\n",
       "    <tr>\n",
       "      <td>14</td>\n",
       "      <td>169</td>\n",
       "      <td>4</td>\n",
       "      <td>5.0</td>\n",
       "    </tr>\n",
       "  </tbody>\n",
       "</table>\n",
       "</div>"
      ],
      "text/plain": [
       "    id_book  cnt_revievs  avg_rating\n",
       "0        55            4         5.0\n",
       "1       518            4         5.0\n",
       "2       347            6         5.0\n",
       "3       513            4         5.0\n",
       "4        57            4         5.0\n",
       "5       642            4         5.0\n",
       "6       459            4         5.0\n",
       "7       972            4         5.0\n",
       "8       182            4         5.0\n",
       "9       418            4         5.0\n",
       "10      967            4         5.0\n",
       "11      993            4         5.0\n",
       "12      553           12         5.0\n",
       "13       62            4         5.0\n",
       "14      169            4         5.0"
      ]
     },
     "execution_count": 9,
     "metadata": {},
     "output_type": "execute_result"
    }
   ],
   "source": [
    "query = ''' SELECT \n",
    "                    reviews.book_id as id_book,\n",
    "                    count(reviews.review_id)as cnt_revievs,\n",
    "                    AVG(ratings.rating) as avg_rating\n",
    "            FROM reviews INNER JOIN ratings ON ratings.book_id = reviews.book_id\n",
    "            GROUP BY id_book\n",
    "            ORDER BY AVG(ratings.rating) DESC\n",
    "        '''\n",
    "book_mean_avg=pd.io.sql.read_sql(query, con=engine)#, parse_dates=['publication_date'])\n",
    "book_mean_avg.head(15)"
   ]
  },
  {
   "cell_type": "code",
   "execution_count": 10,
   "metadata": {},
   "outputs": [
    {
     "data": {
      "text/plain": [
       "26167"
      ]
     },
     "execution_count": 10,
     "metadata": {},
     "output_type": "execute_result"
    }
   ],
   "source": [
    "book_mean_avg['cnt_revievs'].sum()"
   ]
  },
  {
   "cell_type": "code",
   "execution_count": 11,
   "metadata": {},
   "outputs": [],
   "source": [
    "query = ''' SELECT \n",
    "                    distinct books.title as title,\n",
    "                    count(reviews.review_id)as cnt_revievs,\n",
    "                    AVG(ratings.rating) as avg_rating\n",
    "            FROM reviews INNER JOIN ratings ON ratings.book_id = reviews.book_id\n",
    "                    inner join books ON books.book_id=reviews.book_id\n",
    "            GROUP BY books.title\n",
    "            ORDER BY AVG(ratings.rating) DESC\n",
    "        '''"
   ]
  },
  {
   "cell_type": "code",
   "execution_count": 12,
   "metadata": {},
   "outputs": [
    {
     "data": {
      "text/html": [
       "<div>\n",
       "<style scoped>\n",
       "    .dataframe tbody tr th:only-of-type {\n",
       "        vertical-align: middle;\n",
       "    }\n",
       "\n",
       "    .dataframe tbody tr th {\n",
       "        vertical-align: top;\n",
       "    }\n",
       "\n",
       "    .dataframe thead th {\n",
       "        text-align: right;\n",
       "    }\n",
       "</style>\n",
       "<table border=\"1\" class=\"dataframe\">\n",
       "  <thead>\n",
       "    <tr style=\"text-align: right;\">\n",
       "      <th></th>\n",
       "      <th>id</th>\n",
       "      <th>title</th>\n",
       "      <th>cnt_revievs</th>\n",
       "      <th>avg_rating</th>\n",
       "    </tr>\n",
       "  </thead>\n",
       "  <tbody>\n",
       "    <tr>\n",
       "      <td>0</td>\n",
       "      <td>972</td>\n",
       "      <td>Wherever You Go  There You Are: Mindfulness Me...</td>\n",
       "      <td>2</td>\n",
       "      <td>5.00</td>\n",
       "    </tr>\n",
       "    <tr>\n",
       "      <td>1</td>\n",
       "      <td>513</td>\n",
       "      <td>Piercing the Darkness (Darkness  #2)</td>\n",
       "      <td>2</td>\n",
       "      <td>5.00</td>\n",
       "    </tr>\n",
       "    <tr>\n",
       "      <td>2</td>\n",
       "      <td>901</td>\n",
       "      <td>The Walking Dead  Book One (The Walking Dead #...</td>\n",
       "      <td>2</td>\n",
       "      <td>5.00</td>\n",
       "    </tr>\n",
       "    <tr>\n",
       "      <td>3</td>\n",
       "      <td>136</td>\n",
       "      <td>Captivating: Unveiling the Mystery of a Woman'...</td>\n",
       "      <td>2</td>\n",
       "      <td>5.00</td>\n",
       "    </tr>\n",
       "    <tr>\n",
       "      <td>4</td>\n",
       "      <td>86</td>\n",
       "      <td>Arrows of the Queen (Heralds of Valdemar  #1)</td>\n",
       "      <td>2</td>\n",
       "      <td>5.00</td>\n",
       "    </tr>\n",
       "    <tr>\n",
       "      <td>...</td>\n",
       "      <td>...</td>\n",
       "      <td>...</td>\n",
       "      <td>...</td>\n",
       "      <td>...</td>\n",
       "    </tr>\n",
       "    <tr>\n",
       "      <td>989</td>\n",
       "      <td>915</td>\n",
       "      <td>The World Is Flat: A Brief History of the Twen...</td>\n",
       "      <td>3</td>\n",
       "      <td>2.25</td>\n",
       "    </tr>\n",
       "    <tr>\n",
       "      <td>990</td>\n",
       "      <td>371</td>\n",
       "      <td>Junky</td>\n",
       "      <td>2</td>\n",
       "      <td>2.00</td>\n",
       "    </tr>\n",
       "    <tr>\n",
       "      <td>991</td>\n",
       "      <td>316</td>\n",
       "      <td>His Excellency: George Washington</td>\n",
       "      <td>2</td>\n",
       "      <td>2.00</td>\n",
       "    </tr>\n",
       "    <tr>\n",
       "      <td>992</td>\n",
       "      <td>202</td>\n",
       "      <td>Drowning Ruth</td>\n",
       "      <td>3</td>\n",
       "      <td>2.00</td>\n",
       "    </tr>\n",
       "    <tr>\n",
       "      <td>993</td>\n",
       "      <td>303</td>\n",
       "      <td>Harvesting the Heart</td>\n",
       "      <td>2</td>\n",
       "      <td>1.50</td>\n",
       "    </tr>\n",
       "  </tbody>\n",
       "</table>\n",
       "<p>994 rows × 4 columns</p>\n",
       "</div>"
      ],
      "text/plain": [
       "      id                                              title  cnt_revievs  \\\n",
       "0    972  Wherever You Go  There You Are: Mindfulness Me...            2   \n",
       "1    513               Piercing the Darkness (Darkness  #2)            2   \n",
       "2    901  The Walking Dead  Book One (The Walking Dead #...            2   \n",
       "3    136  Captivating: Unveiling the Mystery of a Woman'...            2   \n",
       "4     86      Arrows of the Queen (Heralds of Valdemar  #1)            2   \n",
       "..   ...                                                ...          ...   \n",
       "989  915  The World Is Flat: A Brief History of the Twen...            3   \n",
       "990  371                                              Junky            2   \n",
       "991  316                  His Excellency: George Washington            2   \n",
       "992  202                                      Drowning Ruth            3   \n",
       "993  303                               Harvesting the Heart            2   \n",
       "\n",
       "     avg_rating  \n",
       "0          5.00  \n",
       "1          5.00  \n",
       "2          5.00  \n",
       "3          5.00  \n",
       "4          5.00  \n",
       "..          ...  \n",
       "989        2.25  \n",
       "990        2.00  \n",
       "991        2.00  \n",
       "992        2.00  \n",
       "993        1.50  \n",
       "\n",
       "[994 rows x 4 columns]"
      ]
     },
     "execution_count": 12,
     "metadata": {},
     "output_type": "execute_result"
    }
   ],
   "source": [
    "query = ''' SELECT \n",
    "                    books.book_id as id,\n",
    "                    books.title as title,\n",
    "                    count(distinct reviews.review_id)as cnt_revievs,\n",
    "                    AVG(ratings.rating) as avg_rating\n",
    "            FROM reviews left JOIN ratings ON ratings.book_id = reviews.book_id\n",
    "                    left join books ON books.book_id=reviews.book_id\n",
    "            GROUP BY books.book_id, books.title\n",
    "            ORDER BY AVG(ratings.rating) DESC\n",
    "        '''\n",
    "book_mean_avg2=pd.io.sql.read_sql(query, con=engine)#, parse_dates=['publication_date'])\n",
    "book_mean_avg2"
   ]
  },
  {
   "cell_type": "markdown",
   "metadata": {},
   "source": [
    "### Определите издательство, которое выпустило наибольшее число книг толще 50 страниц — так вы исключите из анализа брошюры;"
   ]
  },
  {
   "cell_type": "code",
   "execution_count": 13,
   "metadata": {},
   "outputs": [
    {
     "data": {
      "text/html": [
       "<div>\n",
       "<style scoped>\n",
       "    .dataframe tbody tr th:only-of-type {\n",
       "        vertical-align: middle;\n",
       "    }\n",
       "\n",
       "    .dataframe tbody tr th {\n",
       "        vertical-align: top;\n",
       "    }\n",
       "\n",
       "    .dataframe thead th {\n",
       "        text-align: right;\n",
       "    }\n",
       "</style>\n",
       "<table border=\"1\" class=\"dataframe\">\n",
       "  <thead>\n",
       "    <tr style=\"text-align: right;\">\n",
       "      <th></th>\n",
       "      <th>cnt_book</th>\n",
       "      <th>publisher</th>\n",
       "    </tr>\n",
       "  </thead>\n",
       "  <tbody>\n",
       "    <tr>\n",
       "      <td>0</td>\n",
       "      <td>42</td>\n",
       "      <td>Penguin Books</td>\n",
       "    </tr>\n",
       "  </tbody>\n",
       "</table>\n",
       "</div>"
      ],
      "text/plain": [
       "   cnt_book      publisher\n",
       "0        42  Penguin Books"
      ]
     },
     "execution_count": 13,
     "metadata": {},
     "output_type": "execute_result"
    }
   ],
   "source": [
    "query = ''' SELECT\n",
    "                    count(books.book_id) as cnt_book,\n",
    "                    publishers.publisher as publisher\n",
    "            FROM books INNER JOIN publishers ON publishers.publisher_id = books.publisher_id\n",
    "            where books.num_pages > 50\n",
    "            group by publishers.publisher\n",
    "            order by cnt_book desc\n",
    "            limit 1\n",
    "        '''\n",
    "publisher_max_book=pd.io.sql.read_sql(query, con=engine)#, parse_dates=['publication_date'])\n",
    "publisher_max_book"
   ]
  },
  {
   "cell_type": "markdown",
   "metadata": {},
   "source": [
    "### Определите автора с самой высокой средней оценкой книг — учитывайте только книги с 50 и более оценками;"
   ]
  },
  {
   "cell_type": "code",
   "execution_count": 14,
   "metadata": {},
   "outputs": [
    {
     "data": {
      "text/html": [
       "<div>\n",
       "<style scoped>\n",
       "    .dataframe tbody tr th:only-of-type {\n",
       "        vertical-align: middle;\n",
       "    }\n",
       "\n",
       "    .dataframe tbody tr th {\n",
       "        vertical-align: top;\n",
       "    }\n",
       "\n",
       "    .dataframe thead th {\n",
       "        text-align: right;\n",
       "    }\n",
       "</style>\n",
       "<table border=\"1\" class=\"dataframe\">\n",
       "  <thead>\n",
       "    <tr style=\"text-align: right;\">\n",
       "      <th></th>\n",
       "      <th>author</th>\n",
       "      <th>id</th>\n",
       "    </tr>\n",
       "  </thead>\n",
       "  <tbody>\n",
       "    <tr>\n",
       "      <td>0</td>\n",
       "      <td>J.K. Rowling/Mary GrandPré</td>\n",
       "      <td>236</td>\n",
       "    </tr>\n",
       "    <tr>\n",
       "      <td>1</td>\n",
       "      <td>J.R.R. Tolkien</td>\n",
       "      <td>240</td>\n",
       "    </tr>\n",
       "    <tr>\n",
       "      <td>2</td>\n",
       "      <td>J.K. Rowling/Mary GrandPré</td>\n",
       "      <td>236</td>\n",
       "    </tr>\n",
       "    <tr>\n",
       "      <td>3</td>\n",
       "      <td>Markus Zusak/Cao Xuân Việt Khương</td>\n",
       "      <td>402</td>\n",
       "    </tr>\n",
       "    <tr>\n",
       "      <td>4</td>\n",
       "      <td>J.K. Rowling/Mary GrandPré</td>\n",
       "      <td>236</td>\n",
       "    </tr>\n",
       "  </tbody>\n",
       "</table>\n",
       "</div>"
      ],
      "text/plain": [
       "                              author   id\n",
       "0         J.K. Rowling/Mary GrandPré  236\n",
       "1                     J.R.R. Tolkien  240\n",
       "2         J.K. Rowling/Mary GrandPré  236\n",
       "3  Markus Zusak/Cao Xuân Việt Khương  402\n",
       "4         J.K. Rowling/Mary GrandPré  236"
      ]
     },
     "execution_count": 14,
     "metadata": {},
     "output_type": "execute_result"
    }
   ],
   "source": [
    "query = ''' SELECT \n",
    "                    authors.author as author,\n",
    "                    authors.author_id as id\n",
    "            FROM authors\n",
    "                INNER JOIN (\n",
    "                    SELECT ROUND(AVG(ratings.rating),2) as book,\n",
    "                    books.author_id as author_id\n",
    "                    FROM \n",
    "                        books\n",
    "                    LEFT JOIN ratings ON ratings.book_id=books.book_id\n",
    "                        GROUP BY books.book_id\n",
    "                    HAVING COUNT(ratings.username) > 50\n",
    "                    ORDER BY \n",
    "                        AVG(ratings.rating) DESC\n",
    "                        LIMIT 5\n",
    "                        ) AS subq ON authors.author_id = subq.author_id;\n",
    "        '''\n",
    "max_rating_author=pd.io.sql.read_sql(query, con=engine)#, parse_dates=['publication_date'])\n",
    "max_rating_author"
   ]
  },
  {
   "cell_type": "markdown",
   "metadata": {},
   "source": [
    "### Посчитайте среднее количество обзоров от пользователей, которые поставили больше 50 оценок."
   ]
  },
  {
   "cell_type": "code",
   "execution_count": 15,
   "metadata": {},
   "outputs": [
    {
     "data": {
      "text/html": [
       "<div>\n",
       "<style scoped>\n",
       "    .dataframe tbody tr th:only-of-type {\n",
       "        vertical-align: middle;\n",
       "    }\n",
       "\n",
       "    .dataframe tbody tr th {\n",
       "        vertical-align: top;\n",
       "    }\n",
       "\n",
       "    .dataframe thead th {\n",
       "        text-align: right;\n",
       "    }\n",
       "</style>\n",
       "<table border=\"1\" class=\"dataframe\">\n",
       "  <thead>\n",
       "    <tr style=\"text-align: right;\">\n",
       "      <th></th>\n",
       "      <th>mean_reviews</th>\n",
       "    </tr>\n",
       "  </thead>\n",
       "  <tbody>\n",
       "    <tr>\n",
       "      <td>0</td>\n",
       "      <td>24.333333</td>\n",
       "    </tr>\n",
       "  </tbody>\n",
       "</table>\n",
       "</div>"
      ],
      "text/plain": [
       "   mean_reviews\n",
       "0     24.333333"
      ]
     },
     "execution_count": 15,
     "metadata": {},
     "output_type": "execute_result"
    }
   ],
   "source": [
    "query = ''' select AVG(SUB.cnt_reviews) as mean_reviews\n",
    "            FROM\n",
    "            (SELECT (COUNT(review_id)) AS cnt_reviews\n",
    "            FROM reviews\n",
    "            WHERE username IN\n",
    "                (\n",
    "                    SELECT username\n",
    "                    FROM ratings\n",
    "                    GROUP BY username\n",
    "                    HAVING COUNT(rating) > 50\n",
    "                ) \n",
    "            GROUP BY username ) as SUB; \n",
    "        '''\n",
    "temp = pd.io.sql.read_sql(query, con=engine)\n",
    "temp"
   ]
  },
  {
   "cell_type": "markdown",
   "metadata": {},
   "source": [
    "## Вывод\n",
    "После первого января 2020 годо вышла 821 книга. Издательство Penguin Books выпустило наибольшее число книг с более чем 50 страницами(42 книги), наибольшее число оценок у Джоан Роулинг(что не удивительно). среднее количество обзоров от пользователей, которые поставили больше 50 оценок - 24."
   ]
  }
 ],
 "metadata": {
  "ExecuteTimeLog": [
   {
    "duration": 254759,
    "start_time": "2021-09-24T15:44:08.622Z"
   },
   {
    "duration": 998,
    "start_time": "2021-09-24T15:48:23.384Z"
   },
   {
    "duration": 94,
    "start_time": "2021-09-24T15:48:24.386Z"
   },
   {
    "duration": 16,
    "start_time": "2021-09-24T15:48:24.482Z"
   },
   {
    "duration": 16,
    "start_time": "2021-09-24T15:48:24.500Z"
   },
   {
    "duration": 46,
    "start_time": "2021-09-24T15:48:24.519Z"
   },
   {
    "duration": 28,
    "start_time": "2021-09-24T15:48:24.567Z"
   },
   {
    "duration": 14,
    "start_time": "2021-09-24T15:48:24.597Z"
   },
   {
    "duration": 42,
    "start_time": "2021-09-24T15:48:24.614Z"
   },
   {
    "duration": 31,
    "start_time": "2021-09-24T15:48:24.658Z"
   },
   {
    "duration": 15,
    "start_time": "2021-09-24T15:48:24.692Z"
   },
   {
    "duration": 19,
    "start_time": "2021-09-24T15:48:24.709Z"
   },
   {
    "duration": 45,
    "start_time": "2021-09-24T15:48:24.730Z"
   },
   {
    "duration": 15,
    "start_time": "2021-09-24T15:56:01.760Z"
   },
   {
    "duration": 5,
    "start_time": "2021-09-24T15:56:13.725Z"
   },
   {
    "duration": 4094,
    "start_time": "2021-09-27T08:40:25.637Z"
   },
   {
    "duration": 969,
    "start_time": "2021-09-27T08:40:29.734Z"
   },
   {
    "duration": 73,
    "start_time": "2021-09-27T08:40:30.707Z"
   },
   {
    "duration": 19,
    "start_time": "2021-09-27T08:40:30.784Z"
   },
   {
    "duration": 23,
    "start_time": "2021-09-27T08:40:30.806Z"
   },
   {
    "duration": 37,
    "start_time": "2021-09-27T08:40:30.832Z"
   },
   {
    "duration": 25,
    "start_time": "2021-09-27T08:40:30.872Z"
   },
   {
    "duration": 18,
    "start_time": "2021-09-27T08:40:30.918Z"
   },
   {
    "duration": 70,
    "start_time": "2021-09-27T08:40:30.939Z"
   },
   {
    "duration": 57,
    "start_time": "2021-09-27T08:40:31.011Z"
   },
   {
    "duration": 6,
    "start_time": "2021-09-27T08:40:31.071Z"
   },
   {
    "duration": 38,
    "start_time": "2021-09-27T08:40:31.079Z"
   },
   {
    "duration": 58,
    "start_time": "2021-09-27T08:40:31.121Z"
   },
   {
    "duration": 58,
    "start_time": "2021-09-27T08:40:31.181Z"
   },
   {
    "duration": 22,
    "start_time": "2021-09-27T08:40:55.404Z"
   },
   {
    "duration": 20,
    "start_time": "2021-09-27T08:41:01.472Z"
   },
   {
    "duration": 7,
    "start_time": "2021-09-27T08:42:41.983Z"
   },
   {
    "duration": 38,
    "start_time": "2021-09-27T08:52:07.517Z"
   },
   {
    "duration": 34,
    "start_time": "2021-09-27T08:52:20.971Z"
   },
   {
    "duration": 5,
    "start_time": "2021-09-27T08:53:02.257Z"
   },
   {
    "duration": 554,
    "start_time": "2021-09-27T08:54:14.859Z"
   },
   {
    "duration": 411,
    "start_time": "2021-09-27T08:54:41.973Z"
   },
   {
    "duration": 34,
    "start_time": "2021-09-27T08:54:50.521Z"
   },
   {
    "duration": 6,
    "start_time": "2021-09-27T08:55:02.060Z"
   },
   {
    "duration": 474,
    "start_time": "2021-09-27T08:55:37.821Z"
   },
   {
    "duration": 39,
    "start_time": "2021-09-27T08:55:47.018Z"
   },
   {
    "duration": 5,
    "start_time": "2021-09-27T08:56:18.314Z"
   },
   {
    "duration": 426,
    "start_time": "2021-09-27T09:08:11.350Z"
   },
   {
    "duration": 546,
    "start_time": "2021-09-27T09:08:45.431Z"
   },
   {
    "duration": 434,
    "start_time": "2021-09-27T09:09:08.985Z"
   },
   {
    "duration": 763,
    "start_time": "2021-09-27T09:09:32.431Z"
   },
   {
    "duration": 429,
    "start_time": "2021-09-27T09:10:00.558Z"
   },
   {
    "duration": 16,
    "start_time": "2021-09-27T09:10:22.650Z"
   },
   {
    "duration": 16,
    "start_time": "2021-09-27T09:11:27.810Z"
   },
   {
    "duration": 424,
    "start_time": "2021-09-27T09:12:06.697Z"
   },
   {
    "duration": 430,
    "start_time": "2021-09-27T09:12:16.863Z"
   },
   {
    "duration": 497,
    "start_time": "2021-09-27T09:12:28.460Z"
   },
   {
    "duration": 35,
    "start_time": "2021-09-27T09:12:38.598Z"
   },
   {
    "duration": 344,
    "start_time": "2021-09-27T13:21:26.575Z"
   },
   {
    "duration": 247642,
    "start_time": "2021-09-27T13:22:13.026Z"
   },
   {
    "duration": 694,
    "start_time": "2021-09-27T13:26:20.670Z"
   },
   {
    "duration": 304,
    "start_time": "2021-09-27T13:26:21.366Z"
   },
   {
    "duration": 73,
    "start_time": "2021-09-27T13:26:21.672Z"
   },
   {
    "duration": 72,
    "start_time": "2021-09-27T13:26:21.747Z"
   },
   {
    "duration": 98,
    "start_time": "2021-09-27T13:26:21.821Z"
   },
   {
    "duration": 89,
    "start_time": "2021-09-27T13:26:21.920Z"
   },
   {
    "duration": 72,
    "start_time": "2021-09-27T13:26:22.011Z"
   },
   {
    "duration": 88,
    "start_time": "2021-09-27T13:26:22.085Z"
   },
   {
    "duration": 5,
    "start_time": "2021-09-27T13:26:22.175Z"
   },
   {
    "duration": 96,
    "start_time": "2021-09-27T13:26:22.182Z"
   },
   {
    "duration": 4,
    "start_time": "2021-09-27T13:26:22.280Z"
   },
   {
    "duration": 108,
    "start_time": "2021-09-27T13:26:22.286Z"
   },
   {
    "duration": 4,
    "start_time": "2021-09-27T13:26:22.396Z"
   },
   {
    "duration": 77,
    "start_time": "2021-09-27T13:26:22.402Z"
   },
   {
    "duration": 75,
    "start_time": "2021-09-27T13:26:22.481Z"
   },
   {
    "duration": 92,
    "start_time": "2021-09-27T13:26:22.557Z"
   },
   {
    "duration": 96,
    "start_time": "2021-09-27T13:26:22.651Z"
   },
   {
    "duration": 660,
    "start_time": "2021-09-27T13:27:20.682Z"
   },
   {
    "duration": 272,
    "start_time": "2021-09-27T13:27:32.668Z"
   },
   {
    "duration": 13,
    "start_time": "2021-09-27T13:27:37.392Z"
   },
   {
    "duration": 174,
    "start_time": "2021-09-27T13:29:35.133Z"
   },
   {
    "duration": 410,
    "start_time": "2021-09-27T13:30:04.005Z"
   },
   {
    "duration": 72,
    "start_time": "2021-09-27T13:30:16.581Z"
   },
   {
    "duration": 74,
    "start_time": "2021-09-27T13:30:39.485Z"
   },
   {
    "duration": 297,
    "start_time": "2021-09-27T14:58:44.944Z"
   },
   {
    "duration": 230,
    "start_time": "2021-09-27T14:58:47.536Z"
   },
   {
    "duration": 2566,
    "start_time": "2021-09-27T15:01:53.731Z"
   },
   {
    "duration": 600,
    "start_time": "2021-09-27T15:01:56.299Z"
   },
   {
    "duration": 279,
    "start_time": "2021-09-27T15:01:56.901Z"
   },
   {
    "duration": 72,
    "start_time": "2021-09-27T15:01:57.182Z"
   },
   {
    "duration": 70,
    "start_time": "2021-09-27T15:01:57.256Z"
   },
   {
    "duration": 99,
    "start_time": "2021-09-27T15:01:57.328Z"
   },
   {
    "duration": 86,
    "start_time": "2021-09-27T15:01:57.429Z"
   },
   {
    "duration": 70,
    "start_time": "2021-09-27T15:01:57.517Z"
   },
   {
    "duration": 82,
    "start_time": "2021-09-27T15:01:57.589Z"
   },
   {
    "duration": 4,
    "start_time": "2021-09-27T15:01:57.673Z"
   },
   {
    "duration": 86,
    "start_time": "2021-09-27T15:01:57.678Z"
   },
   {
    "duration": 4,
    "start_time": "2021-09-27T15:01:57.766Z"
   },
   {
    "duration": 91,
    "start_time": "2021-09-27T15:01:57.772Z"
   },
   {
    "duration": 4,
    "start_time": "2021-09-27T15:01:57.864Z"
   },
   {
    "duration": 72,
    "start_time": "2021-09-27T15:01:57.870Z"
   },
   {
    "duration": 73,
    "start_time": "2021-09-27T15:01:57.944Z"
   },
   {
    "duration": 92,
    "start_time": "2021-09-27T15:01:58.019Z"
   },
   {
    "duration": 84,
    "start_time": "2021-09-27T15:01:58.113Z"
   },
   {
    "duration": 70,
    "start_time": "2021-09-27T15:01:58.199Z"
   },
   {
    "duration": 4196,
    "start_time": "2021-09-27T17:43:05.144Z"
   },
   {
    "duration": 1086,
    "start_time": "2021-09-27T17:43:09.344Z"
   },
   {
    "duration": 246,
    "start_time": "2021-09-27T17:43:10.433Z"
   },
   {
    "duration": 62,
    "start_time": "2021-09-27T17:43:10.682Z"
   },
   {
    "duration": 66,
    "start_time": "2021-09-27T17:43:10.747Z"
   },
   {
    "duration": 96,
    "start_time": "2021-09-27T17:43:10.816Z"
   },
   {
    "duration": 83,
    "start_time": "2021-09-27T17:43:10.914Z"
   },
   {
    "duration": 60,
    "start_time": "2021-09-27T17:43:11.001Z"
   },
   {
    "duration": 77,
    "start_time": "2021-09-27T17:43:11.065Z"
   },
   {
    "duration": 6,
    "start_time": "2021-09-27T17:43:11.145Z"
   },
   {
    "duration": 82,
    "start_time": "2021-09-27T17:43:11.153Z"
   },
   {
    "duration": 7,
    "start_time": "2021-09-27T17:43:11.239Z"
   },
   {
    "duration": 102,
    "start_time": "2021-09-27T17:43:11.248Z"
   },
   {
    "duration": 6,
    "start_time": "2021-09-27T17:43:11.353Z"
   },
   {
    "duration": 69,
    "start_time": "2021-09-27T17:43:11.361Z"
   },
   {
    "duration": 65,
    "start_time": "2021-09-27T17:43:11.432Z"
   },
   {
    "duration": 86,
    "start_time": "2021-09-27T17:43:11.499Z"
   },
   {
    "duration": 88,
    "start_time": "2021-09-27T17:43:11.588Z"
   },
   {
    "duration": 62,
    "start_time": "2021-09-27T17:43:11.679Z"
   },
   {
    "duration": 490,
    "start_time": "2021-09-27T17:45:33.736Z"
   },
   {
    "duration": 362,
    "start_time": "2021-09-27T17:48:02.646Z"
   },
   {
    "duration": 394,
    "start_time": "2021-09-27T17:48:18.925Z"
   },
   {
    "duration": 86,
    "start_time": "2021-09-27T17:48:31.057Z"
   },
   {
    "duration": 422,
    "start_time": "2021-09-27T17:48:39.965Z"
   },
   {
    "duration": 66,
    "start_time": "2021-09-27T17:49:22.285Z"
   },
   {
    "duration": 370,
    "start_time": "2021-09-27T17:52:22.731Z"
   },
   {
    "duration": 352,
    "start_time": "2021-09-27T17:52:31.890Z"
   },
   {
    "duration": 355,
    "start_time": "2021-09-27T17:52:57.369Z"
   },
   {
    "duration": 108,
    "start_time": "2021-09-27T17:53:19.784Z"
   },
   {
    "duration": 346,
    "start_time": "2021-09-27T17:53:57.750Z"
   },
   {
    "duration": 91,
    "start_time": "2021-09-27T17:54:19.520Z"
   },
   {
    "duration": 63,
    "start_time": "2021-09-27T17:54:32.771Z"
   },
   {
    "duration": 3715,
    "start_time": "2021-09-28T08:35:35.122Z"
   },
   {
    "duration": 891,
    "start_time": "2021-09-28T08:35:38.840Z"
   },
   {
    "duration": 231,
    "start_time": "2021-09-28T08:35:39.734Z"
   },
   {
    "duration": 59,
    "start_time": "2021-09-28T08:35:39.968Z"
   },
   {
    "duration": 59,
    "start_time": "2021-09-28T08:35:40.029Z"
   },
   {
    "duration": 92,
    "start_time": "2021-09-28T08:35:40.090Z"
   },
   {
    "duration": 73,
    "start_time": "2021-09-28T08:35:40.185Z"
   },
   {
    "duration": 58,
    "start_time": "2021-09-28T08:35:40.262Z"
   },
   {
    "duration": 72,
    "start_time": "2021-09-28T08:35:40.323Z"
   },
   {
    "duration": 6,
    "start_time": "2021-09-28T08:35:40.398Z"
   },
   {
    "duration": 80,
    "start_time": "2021-09-28T08:35:40.407Z"
   },
   {
    "duration": 9,
    "start_time": "2021-09-28T08:35:40.490Z"
   },
   {
    "duration": 85,
    "start_time": "2021-09-28T08:35:40.501Z"
   },
   {
    "duration": 5,
    "start_time": "2021-09-28T08:35:40.589Z"
   },
   {
    "duration": 61,
    "start_time": "2021-09-28T08:35:40.597Z"
   },
   {
    "duration": 60,
    "start_time": "2021-09-28T08:35:40.660Z"
   },
   {
    "duration": 83,
    "start_time": "2021-09-28T08:35:40.723Z"
   },
   {
    "duration": 77,
    "start_time": "2021-09-28T08:35:40.808Z"
   },
   {
    "duration": 58,
    "start_time": "2021-09-28T08:35:40.887Z"
   },
   {
    "duration": 92,
    "start_time": "2021-09-28T08:35:40.948Z"
   },
   {
    "duration": 63,
    "start_time": "2021-09-28T08:39:56.262Z"
   },
   {
    "duration": 58,
    "start_time": "2021-09-28T08:41:43.334Z"
   },
   {
    "duration": 59,
    "start_time": "2021-09-28T08:44:40.391Z"
   },
   {
    "duration": 59,
    "start_time": "2021-09-28T08:45:06.821Z"
   },
   {
    "duration": 3120,
    "start_time": "2021-09-28T08:47:56.455Z"
   },
   {
    "duration": 7,
    "start_time": "2021-09-28T08:47:59.578Z"
   },
   {
    "duration": 226,
    "start_time": "2021-09-28T08:47:59.588Z"
   },
   {
    "duration": 58,
    "start_time": "2021-09-28T08:47:59.817Z"
   },
   {
    "duration": 57,
    "start_time": "2021-09-28T08:47:59.878Z"
   },
   {
    "duration": 146,
    "start_time": "2021-09-28T08:47:59.937Z"
   },
   {
    "duration": 72,
    "start_time": "2021-09-28T08:48:00.086Z"
   },
   {
    "duration": 57,
    "start_time": "2021-09-28T08:48:00.162Z"
   },
   {
    "duration": 71,
    "start_time": "2021-09-28T08:48:00.222Z"
   },
   {
    "duration": 7,
    "start_time": "2021-09-28T08:48:00.296Z"
   },
   {
    "duration": 77,
    "start_time": "2021-09-28T08:48:00.306Z"
   },
   {
    "duration": 6,
    "start_time": "2021-09-28T08:48:00.386Z"
   },
   {
    "duration": 96,
    "start_time": "2021-09-28T08:48:00.394Z"
   },
   {
    "duration": 6,
    "start_time": "2021-09-28T08:48:00.493Z"
   },
   {
    "duration": 65,
    "start_time": "2021-09-28T08:48:00.501Z"
   },
   {
    "duration": 60,
    "start_time": "2021-09-28T08:48:00.568Z"
   },
   {
    "duration": 82,
    "start_time": "2021-09-28T08:48:00.631Z"
   },
   {
    "duration": 77,
    "start_time": "2021-09-28T08:48:00.715Z"
   },
   {
    "duration": 63,
    "start_time": "2021-09-28T08:48:00.796Z"
   },
   {
    "duration": 125,
    "start_time": "2021-09-28T08:48:00.863Z"
   },
   {
    "duration": 11697,
    "start_time": "2021-09-28T08:47:49.294Z"
   },
   {
    "duration": 3329,
    "start_time": "2021-09-28T08:48:22.407Z"
   },
   {
    "duration": 12,
    "start_time": "2021-09-28T08:48:25.740Z"
   },
   {
    "duration": 235,
    "start_time": "2021-09-28T08:48:25.757Z"
   },
   {
    "duration": 65,
    "start_time": "2021-09-28T08:48:25.995Z"
   },
   {
    "duration": 62,
    "start_time": "2021-09-28T08:48:26.062Z"
   },
   {
    "duration": 95,
    "start_time": "2021-09-28T08:48:26.126Z"
   },
   {
    "duration": 77,
    "start_time": "2021-09-28T08:48:26.223Z"
   },
   {
    "duration": 59,
    "start_time": "2021-09-28T08:48:26.304Z"
   },
   {
    "duration": 75,
    "start_time": "2021-09-28T08:48:26.366Z"
   },
   {
    "duration": 5,
    "start_time": "2021-09-28T08:48:26.443Z"
   },
   {
    "duration": 81,
    "start_time": "2021-09-28T08:48:26.451Z"
   },
   {
    "duration": 5,
    "start_time": "2021-09-28T08:48:26.535Z"
   },
   {
    "duration": 94,
    "start_time": "2021-09-28T08:48:26.542Z"
   },
   {
    "duration": 5,
    "start_time": "2021-09-28T08:48:26.639Z"
   },
   {
    "duration": 65,
    "start_time": "2021-09-28T08:48:26.647Z"
   },
   {
    "duration": 65,
    "start_time": "2021-09-28T08:48:26.714Z"
   },
   {
    "duration": 86,
    "start_time": "2021-09-28T08:48:26.782Z"
   },
   {
    "duration": 80,
    "start_time": "2021-09-28T08:48:26.870Z"
   },
   {
    "duration": 62,
    "start_time": "2021-09-28T08:48:26.952Z"
   },
   {
    "duration": 61,
    "start_time": "2021-09-28T08:48:27.016Z"
   },
   {
    "duration": 252153,
    "start_time": "2021-09-28T09:20:36.480Z"
   },
   {
    "duration": 919,
    "start_time": "2021-09-28T09:24:48.636Z"
   },
   {
    "duration": 231,
    "start_time": "2021-09-28T09:24:49.558Z"
   },
   {
    "duration": 61,
    "start_time": "2021-09-28T09:24:49.792Z"
   },
   {
    "duration": 60,
    "start_time": "2021-09-28T09:24:49.855Z"
   },
   {
    "duration": 90,
    "start_time": "2021-09-28T09:24:49.918Z"
   },
   {
    "duration": 75,
    "start_time": "2021-09-28T09:24:50.010Z"
   },
   {
    "duration": 58,
    "start_time": "2021-09-28T09:24:50.088Z"
   },
   {
    "duration": 76,
    "start_time": "2021-09-28T09:24:50.149Z"
   },
   {
    "duration": 7,
    "start_time": "2021-09-28T09:24:50.228Z"
   },
   {
    "duration": 81,
    "start_time": "2021-09-28T09:24:50.237Z"
   },
   {
    "duration": 5,
    "start_time": "2021-09-28T09:24:50.320Z"
   },
   {
    "duration": 90,
    "start_time": "2021-09-28T09:24:50.327Z"
   },
   {
    "duration": 4,
    "start_time": "2021-09-28T09:24:50.420Z"
   },
   {
    "duration": 67,
    "start_time": "2021-09-28T09:24:50.427Z"
   },
   {
    "duration": 63,
    "start_time": "2021-09-28T09:24:50.496Z"
   },
   {
    "duration": 84,
    "start_time": "2021-09-28T09:24:50.561Z"
   },
   {
    "duration": 77,
    "start_time": "2021-09-28T09:24:50.648Z"
   },
   {
    "duration": 64,
    "start_time": "2021-09-28T09:24:50.727Z"
   },
   {
    "duration": 61,
    "start_time": "2021-09-28T09:24:50.794Z"
   },
   {
    "duration": 78,
    "start_time": "2021-09-28T09:30:24.058Z"
   },
   {
    "duration": 531,
    "start_time": "2021-09-28T09:31:29.656Z"
   },
   {
    "duration": 78,
    "start_time": "2021-09-28T09:31:37.597Z"
   },
   {
    "duration": 443,
    "start_time": "2021-09-28T09:31:47.944Z"
   },
   {
    "duration": 78,
    "start_time": "2021-09-28T09:31:57.075Z"
   },
   {
    "duration": 390,
    "start_time": "2021-09-28T09:32:36.940Z"
   },
   {
    "duration": 12,
    "start_time": "2021-09-28T09:32:44.559Z"
   },
   {
    "duration": 29928,
    "start_time": "2021-09-28T09:32:48.856Z"
   },
   {
    "duration": 14,
    "start_time": "2021-09-28T09:33:21.248Z"
   },
   {
    "duration": 70,
    "start_time": "2021-09-28T09:33:32.513Z"
   },
   {
    "duration": 76,
    "start_time": "2021-09-28T09:33:41.249Z"
   },
   {
    "duration": 362,
    "start_time": "2021-09-28T09:38:08.180Z"
   },
   {
    "duration": 9,
    "start_time": "2021-09-28T09:38:12.821Z"
   },
   {
    "duration": 228,
    "start_time": "2021-09-28T10:13:42.205Z"
   },
   {
    "duration": 2115,
    "start_time": "2021-09-28T10:13:47.085Z"
   },
   {
    "duration": 644,
    "start_time": "2021-09-28T10:13:49.202Z"
   },
   {
    "duration": 299,
    "start_time": "2021-09-28T10:13:49.849Z"
   },
   {
    "duration": 73,
    "start_time": "2021-09-28T10:13:50.149Z"
   },
   {
    "duration": 73,
    "start_time": "2021-09-28T10:13:50.223Z"
   },
   {
    "duration": 105,
    "start_time": "2021-09-28T10:13:50.297Z"
   },
   {
    "duration": 87,
    "start_time": "2021-09-28T10:13:50.403Z"
   },
   {
    "duration": 71,
    "start_time": "2021-09-28T10:13:50.492Z"
   },
   {
    "duration": 83,
    "start_time": "2021-09-28T10:13:50.565Z"
   },
   {
    "duration": 4,
    "start_time": "2021-09-28T10:13:50.650Z"
   },
   {
    "duration": 94,
    "start_time": "2021-09-28T10:13:50.656Z"
   },
   {
    "duration": 4,
    "start_time": "2021-09-28T10:13:50.752Z"
   },
   {
    "duration": 107,
    "start_time": "2021-09-28T10:13:50.757Z"
   },
   {
    "duration": 4,
    "start_time": "2021-09-28T10:13:50.866Z"
   },
   {
    "duration": 83,
    "start_time": "2021-09-28T10:13:50.871Z"
   },
   {
    "duration": 77,
    "start_time": "2021-09-28T10:13:50.955Z"
   },
   {
    "duration": 91,
    "start_time": "2021-09-28T10:13:51.033Z"
   },
   {
    "duration": 86,
    "start_time": "2021-09-28T10:13:51.126Z"
   },
   {
    "duration": 73,
    "start_time": "2021-09-28T10:13:51.213Z"
   },
   {
    "duration": 320,
    "start_time": "2021-09-28T10:13:51.288Z"
   },
   {
    "duration": 11681,
    "start_time": "2021-09-28T10:13:39.929Z"
   },
   {
    "duration": 11673,
    "start_time": "2021-09-28T10:13:39.938Z"
   },
   {
    "duration": 89,
    "start_time": "2021-09-28T10:16:24.303Z"
   },
   {
    "duration": 241,
    "start_time": "2021-09-28T10:20:56.037Z"
   },
   {
    "duration": 238,
    "start_time": "2021-09-28T10:21:13.734Z"
   },
   {
    "duration": 100,
    "start_time": "2021-09-28T10:21:21.026Z"
   },
   {
    "duration": 7,
    "start_time": "2021-09-28T10:21:31.674Z"
   },
   {
    "duration": 1385,
    "start_time": "2021-09-28T10:21:56.890Z"
   },
   {
    "duration": 74,
    "start_time": "2021-09-28T10:22:03.648Z"
   },
   {
    "duration": 96,
    "start_time": "2021-09-28T10:22:17.047Z"
   },
   {
    "duration": 96,
    "start_time": "2021-09-28T10:23:35.392Z"
   },
   {
    "duration": 99,
    "start_time": "2021-09-28T10:23:44.073Z"
   },
   {
    "duration": 100,
    "start_time": "2021-09-28T10:24:08.154Z"
   },
   {
    "duration": 98,
    "start_time": "2021-09-28T10:24:27.035Z"
   },
   {
    "duration": 97,
    "start_time": "2021-09-28T10:25:13.157Z"
   },
   {
    "duration": 99,
    "start_time": "2021-09-28T10:25:28.864Z"
   },
   {
    "duration": 100,
    "start_time": "2021-09-28T10:26:22.851Z"
   },
   {
    "duration": 95,
    "start_time": "2021-09-28T10:26:27.307Z"
   },
   {
    "duration": 107,
    "start_time": "2021-09-28T10:26:47.099Z"
   },
   {
    "duration": 96,
    "start_time": "2021-09-28T10:26:52.892Z"
   },
   {
    "duration": 270,
    "start_time": "2021-09-28T10:27:27.341Z"
   },
   {
    "duration": 97,
    "start_time": "2021-09-28T10:27:30.159Z"
   },
   {
    "duration": 102,
    "start_time": "2021-09-28T10:27:43.862Z"
   },
   {
    "duration": 99,
    "start_time": "2021-09-28T10:28:47.866Z"
   },
   {
    "duration": 174,
    "start_time": "2021-09-28T10:29:29.382Z"
   },
   {
    "duration": 95,
    "start_time": "2021-09-28T10:31:54.226Z"
   },
   {
    "duration": 57,
    "start_time": "2021-09-28T10:32:58.933Z"
   },
   {
    "duration": 2,
    "start_time": "2021-09-28T10:35:01.839Z"
   },
   {
    "duration": 251,
    "start_time": "2021-09-28T10:35:16.701Z"
   },
   {
    "duration": 245,
    "start_time": "2021-09-28T10:35:30.031Z"
   },
   {
    "duration": 249,
    "start_time": "2021-09-28T10:36:07.754Z"
   },
   {
    "duration": 255,
    "start_time": "2021-09-28T10:37:00.511Z"
   },
   {
    "duration": 73,
    "start_time": "2021-09-28T10:37:19.805Z"
   },
   {
    "duration": 98,
    "start_time": "2021-09-28T10:37:52.248Z"
   },
   {
    "duration": 400,
    "start_time": "2021-09-28T10:38:03.590Z"
   },
   {
    "duration": 96,
    "start_time": "2021-09-28T10:38:28.396Z"
   },
   {
    "duration": 96,
    "start_time": "2021-09-28T10:39:24.360Z"
   },
   {
    "duration": 239014,
    "start_time": "2021-09-28T10:45:35.657Z"
   },
   {
    "duration": 897,
    "start_time": "2021-09-28T10:49:34.674Z"
   },
   {
    "duration": 223,
    "start_time": "2021-09-28T10:49:35.574Z"
   },
   {
    "duration": 59,
    "start_time": "2021-09-28T10:49:35.800Z"
   },
   {
    "duration": 60,
    "start_time": "2021-09-28T10:49:35.861Z"
   },
   {
    "duration": 82,
    "start_time": "2021-09-28T10:49:35.924Z"
   },
   {
    "duration": 72,
    "start_time": "2021-09-28T10:49:36.008Z"
   },
   {
    "duration": 55,
    "start_time": "2021-09-28T10:49:36.085Z"
   },
   {
    "duration": 69,
    "start_time": "2021-09-28T10:49:36.143Z"
   },
   {
    "duration": 6,
    "start_time": "2021-09-28T10:49:36.215Z"
   },
   {
    "duration": 81,
    "start_time": "2021-09-28T10:49:36.223Z"
   },
   {
    "duration": 6,
    "start_time": "2021-09-28T10:49:36.307Z"
   },
   {
    "duration": 93,
    "start_time": "2021-09-28T10:49:36.315Z"
   },
   {
    "duration": 6,
    "start_time": "2021-09-28T10:49:36.411Z"
   },
   {
    "duration": 76,
    "start_time": "2021-09-28T10:49:36.419Z"
   },
   {
    "duration": 61,
    "start_time": "2021-09-28T10:49:36.498Z"
   },
   {
    "duration": 80,
    "start_time": "2021-09-28T10:49:36.562Z"
   },
   {
    "duration": 74,
    "start_time": "2021-09-28T10:49:36.645Z"
   },
   {
    "duration": 57,
    "start_time": "2021-09-28T10:49:36.721Z"
   },
   {
    "duration": 56,
    "start_time": "2021-09-28T10:49:36.781Z"
   },
   {
    "duration": 80,
    "start_time": "2021-09-28T10:49:36.840Z"
   },
   {
    "duration": 67,
    "start_time": "2021-09-28T10:49:36.923Z"
   },
   {
    "duration": 9,
    "start_time": "2021-09-28T10:49:36.994Z"
   },
   {
    "duration": 510,
    "start_time": "2021-09-28T10:50:03.817Z"
   },
   {
    "duration": 83,
    "start_time": "2021-09-28T10:50:13.359Z"
   },
   {
    "duration": 404,
    "start_time": "2021-09-28T10:51:38.898Z"
   },
   {
    "duration": 77,
    "start_time": "2021-09-28T10:51:57.422Z"
   },
   {
    "duration": 417,
    "start_time": "2021-09-28T10:53:45.517Z"
   },
   {
    "duration": 57,
    "start_time": "2021-09-28T10:55:49.524Z"
   },
   {
    "duration": 426,
    "start_time": "2021-09-28T10:56:06.700Z"
   },
   {
    "duration": 57,
    "start_time": "2021-09-28T10:56:13.198Z"
   },
   {
    "duration": 71,
    "start_time": "2021-09-28T10:56:43.950Z"
   },
   {
    "duration": 424,
    "start_time": "2021-09-28T10:57:06.193Z"
   },
   {
    "duration": 58,
    "start_time": "2021-09-28T10:57:08.334Z"
   },
   {
    "duration": 438,
    "start_time": "2021-09-28T10:57:16.192Z"
   },
   {
    "duration": 59,
    "start_time": "2021-09-28T10:57:31.060Z"
   },
   {
    "duration": 440,
    "start_time": "2021-09-28T10:58:15.758Z"
   },
   {
    "duration": 440,
    "start_time": "2021-09-28T10:58:24.646Z"
   },
   {
    "duration": 61,
    "start_time": "2021-09-28T10:58:30.423Z"
   },
   {
    "duration": 74,
    "start_time": "2021-09-28T11:50:35.158Z"
   },
   {
    "duration": 64,
    "start_time": "2021-09-28T11:52:05.555Z"
   },
   {
    "duration": 3868,
    "start_time": "2021-10-29T08:45:51.749Z"
   },
   {
    "duration": 861,
    "start_time": "2021-10-29T08:45:55.620Z"
   },
   {
    "duration": 306,
    "start_time": "2021-10-29T08:45:56.482Z"
   },
   {
    "duration": 68,
    "start_time": "2021-10-29T08:45:56.790Z"
   },
   {
    "duration": 65,
    "start_time": "2021-10-29T08:45:56.860Z"
   },
   {
    "duration": 96,
    "start_time": "2021-10-29T08:45:56.927Z"
   },
   {
    "duration": 108,
    "start_time": "2021-10-29T08:45:57.025Z"
   },
   {
    "duration": 66,
    "start_time": "2021-10-29T08:45:57.136Z"
   },
   {
    "duration": 78,
    "start_time": "2021-10-29T08:45:57.203Z"
   },
   {
    "duration": 4,
    "start_time": "2021-10-29T08:45:57.283Z"
   },
   {
    "duration": 20,
    "start_time": "2021-10-29T08:45:57.288Z"
   },
   {
    "duration": 108,
    "start_time": "2021-10-29T08:45:57.310Z"
   },
   {
    "duration": 66,
    "start_time": "2021-10-29T08:45:57.420Z"
   },
   {
    "duration": 67,
    "start_time": "2021-10-29T08:45:57.488Z"
   },
   {
    "duration": 66,
    "start_time": "2021-10-29T08:45:57.557Z"
   }
  ],
  "kernelspec": {
   "display_name": "Python 3",
   "language": "python",
   "name": "python3"
  },
  "language_info": {
   "codemirror_mode": {
    "name": "ipython",
    "version": 3
   },
   "file_extension": ".py",
   "mimetype": "text/x-python",
   "name": "python",
   "nbconvert_exporter": "python",
   "pygments_lexer": "ipython3",
   "version": "3.7.8"
  },
  "toc": {
   "base_numbering": 1,
   "nav_menu": {},
   "number_sections": true,
   "sideBar": true,
   "skip_h1_title": true,
   "title_cell": "Table of Contents",
   "title_sidebar": "Contents",
   "toc_cell": false,
   "toc_position": {},
   "toc_section_display": true,
   "toc_window_display": false
  }
 },
 "nbformat": 4,
 "nbformat_minor": 4
}
